{
  "nbformat": 4,
  "nbformat_minor": 0,
  "metadata": {
    "colab": {
      "provenance": [],
      "authorship_tag": "ABX9TyMbnBQMyte+sE2kr51TqEBr",
      "include_colab_link": true
    },
    "kernelspec": {
      "name": "python3",
      "display_name": "Python 3"
    },
    "language_info": {
      "name": "python"
    }
  },
  "cells": [
    {
      "cell_type": "markdown",
      "metadata": {
        "id": "view-in-github",
        "colab_type": "text"
      },
      "source": [
        "<a href=\"https://colab.research.google.com/github/tmwiceu/DADS5001-Mini-Project/blob/main/DADS5001_Mini_Project.ipynb\" target=\"_parent\"><img src=\"https://colab.research.google.com/assets/colab-badge.svg\" alt=\"Open In Colab\"/></a>"
      ]
    },
    {
      "cell_type": "code",
      "source": [
        "import sys\n",
        "import pandas as pd\n",
        "import numpy as np\n",
        "import matplotlib as mpl\n",
        "import matplotlib.pyplot as plt"
      ],
      "metadata": {
        "id": "h1GWcaJTyP2o"
      },
      "execution_count": 34,
      "outputs": []
    },
    {
      "cell_type": "code",
      "source": [
        "df_marriage = pd.read_csv(\"https://raw.githubusercontent.com/tmwiceu/DADS5001-Mini-Project/main/marriage_data_india.csv\")\n",
        "df_marriage.head()"
      ],
      "metadata": {
        "colab": {
          "base_uri": "https://localhost:8080/",
          "height": 241
        },
        "id": "XB7Ib7xZzY48",
        "outputId": "d28f8e02-878a-46da-8491-ac0a502ba6b0"
      },
      "execution_count": 35,
      "outputs": [
        {
          "output_type": "execute_result",
          "data": {
            "text/plain": [
              "   ID Marriage_Type  Age_at_Marriage  Gender Education_Level Caste_Match  \\\n",
              "0   1          Love               23    Male        Graduate   Different   \n",
              "1   2          Love               28  Female          School        Same   \n",
              "2   3      Arranged               39    Male    Postgraduate        Same   \n",
              "3   4      Arranged               26  Female          School   Different   \n",
              "4   5          Love               32  Female        Graduate        Same   \n",
              "\n",
              "  Religion Parental_Approval Urban_Rural Dowry_Exchanged Marital_Satisfaction  \\\n",
              "0    Hindu                No       Urban              No               Medium   \n",
              "1    Hindu               Yes       Rural             Yes                  Low   \n",
              "2   Muslim               Yes       Rural              No               Medium   \n",
              "3    Hindu               Yes       Urban             Yes                  Low   \n",
              "4    Hindu           Partial       Rural             Yes               Medium   \n",
              "\n",
              "  Divorce_Status  Children_Count Income_Level  Years_Since_Marriage  \\\n",
              "0            Yes               5       Middle                    34   \n",
              "1             No               3       Middle                    42   \n",
              "2             No               0         High                    25   \n",
              "3             No               0         High                    12   \n",
              "4             No               1       Middle                    41   \n",
              "\n",
              "  Spouse_Working Inter-Caste Inter-Religion  \n",
              "0             No          No             No  \n",
              "1             No          No            Yes  \n",
              "2             No          No             No  \n",
              "3             No         Yes             No  \n",
              "4             No          No            Yes  "
            ],
            "text/html": [
              "\n",
              "  <div id=\"df-8a5d8373-7ae9-4c19-b7cd-48e5e9f754a5\" class=\"colab-df-container\">\n",
              "    <div>\n",
              "<style scoped>\n",
              "    .dataframe tbody tr th:only-of-type {\n",
              "        vertical-align: middle;\n",
              "    }\n",
              "\n",
              "    .dataframe tbody tr th {\n",
              "        vertical-align: top;\n",
              "    }\n",
              "\n",
              "    .dataframe thead th {\n",
              "        text-align: right;\n",
              "    }\n",
              "</style>\n",
              "<table border=\"1\" class=\"dataframe\">\n",
              "  <thead>\n",
              "    <tr style=\"text-align: right;\">\n",
              "      <th></th>\n",
              "      <th>ID</th>\n",
              "      <th>Marriage_Type</th>\n",
              "      <th>Age_at_Marriage</th>\n",
              "      <th>Gender</th>\n",
              "      <th>Education_Level</th>\n",
              "      <th>Caste_Match</th>\n",
              "      <th>Religion</th>\n",
              "      <th>Parental_Approval</th>\n",
              "      <th>Urban_Rural</th>\n",
              "      <th>Dowry_Exchanged</th>\n",
              "      <th>Marital_Satisfaction</th>\n",
              "      <th>Divorce_Status</th>\n",
              "      <th>Children_Count</th>\n",
              "      <th>Income_Level</th>\n",
              "      <th>Years_Since_Marriage</th>\n",
              "      <th>Spouse_Working</th>\n",
              "      <th>Inter-Caste</th>\n",
              "      <th>Inter-Religion</th>\n",
              "    </tr>\n",
              "  </thead>\n",
              "  <tbody>\n",
              "    <tr>\n",
              "      <th>0</th>\n",
              "      <td>1</td>\n",
              "      <td>Love</td>\n",
              "      <td>23</td>\n",
              "      <td>Male</td>\n",
              "      <td>Graduate</td>\n",
              "      <td>Different</td>\n",
              "      <td>Hindu</td>\n",
              "      <td>No</td>\n",
              "      <td>Urban</td>\n",
              "      <td>No</td>\n",
              "      <td>Medium</td>\n",
              "      <td>Yes</td>\n",
              "      <td>5</td>\n",
              "      <td>Middle</td>\n",
              "      <td>34</td>\n",
              "      <td>No</td>\n",
              "      <td>No</td>\n",
              "      <td>No</td>\n",
              "    </tr>\n",
              "    <tr>\n",
              "      <th>1</th>\n",
              "      <td>2</td>\n",
              "      <td>Love</td>\n",
              "      <td>28</td>\n",
              "      <td>Female</td>\n",
              "      <td>School</td>\n",
              "      <td>Same</td>\n",
              "      <td>Hindu</td>\n",
              "      <td>Yes</td>\n",
              "      <td>Rural</td>\n",
              "      <td>Yes</td>\n",
              "      <td>Low</td>\n",
              "      <td>No</td>\n",
              "      <td>3</td>\n",
              "      <td>Middle</td>\n",
              "      <td>42</td>\n",
              "      <td>No</td>\n",
              "      <td>No</td>\n",
              "      <td>Yes</td>\n",
              "    </tr>\n",
              "    <tr>\n",
              "      <th>2</th>\n",
              "      <td>3</td>\n",
              "      <td>Arranged</td>\n",
              "      <td>39</td>\n",
              "      <td>Male</td>\n",
              "      <td>Postgraduate</td>\n",
              "      <td>Same</td>\n",
              "      <td>Muslim</td>\n",
              "      <td>Yes</td>\n",
              "      <td>Rural</td>\n",
              "      <td>No</td>\n",
              "      <td>Medium</td>\n",
              "      <td>No</td>\n",
              "      <td>0</td>\n",
              "      <td>High</td>\n",
              "      <td>25</td>\n",
              "      <td>No</td>\n",
              "      <td>No</td>\n",
              "      <td>No</td>\n",
              "    </tr>\n",
              "    <tr>\n",
              "      <th>3</th>\n",
              "      <td>4</td>\n",
              "      <td>Arranged</td>\n",
              "      <td>26</td>\n",
              "      <td>Female</td>\n",
              "      <td>School</td>\n",
              "      <td>Different</td>\n",
              "      <td>Hindu</td>\n",
              "      <td>Yes</td>\n",
              "      <td>Urban</td>\n",
              "      <td>Yes</td>\n",
              "      <td>Low</td>\n",
              "      <td>No</td>\n",
              "      <td>0</td>\n",
              "      <td>High</td>\n",
              "      <td>12</td>\n",
              "      <td>No</td>\n",
              "      <td>Yes</td>\n",
              "      <td>No</td>\n",
              "    </tr>\n",
              "    <tr>\n",
              "      <th>4</th>\n",
              "      <td>5</td>\n",
              "      <td>Love</td>\n",
              "      <td>32</td>\n",
              "      <td>Female</td>\n",
              "      <td>Graduate</td>\n",
              "      <td>Same</td>\n",
              "      <td>Hindu</td>\n",
              "      <td>Partial</td>\n",
              "      <td>Rural</td>\n",
              "      <td>Yes</td>\n",
              "      <td>Medium</td>\n",
              "      <td>No</td>\n",
              "      <td>1</td>\n",
              "      <td>Middle</td>\n",
              "      <td>41</td>\n",
              "      <td>No</td>\n",
              "      <td>No</td>\n",
              "      <td>Yes</td>\n",
              "    </tr>\n",
              "  </tbody>\n",
              "</table>\n",
              "</div>\n",
              "    <div class=\"colab-df-buttons\">\n",
              "\n",
              "  <div class=\"colab-df-container\">\n",
              "    <button class=\"colab-df-convert\" onclick=\"convertToInteractive('df-8a5d8373-7ae9-4c19-b7cd-48e5e9f754a5')\"\n",
              "            title=\"Convert this dataframe to an interactive table.\"\n",
              "            style=\"display:none;\">\n",
              "\n",
              "  <svg xmlns=\"http://www.w3.org/2000/svg\" height=\"24px\" viewBox=\"0 -960 960 960\">\n",
              "    <path d=\"M120-120v-720h720v720H120Zm60-500h600v-160H180v160Zm220 220h160v-160H400v160Zm0 220h160v-160H400v160ZM180-400h160v-160H180v160Zm440 0h160v-160H620v160ZM180-180h160v-160H180v160Zm440 0h160v-160H620v160Z\"/>\n",
              "  </svg>\n",
              "    </button>\n",
              "\n",
              "  <style>\n",
              "    .colab-df-container {\n",
              "      display:flex;\n",
              "      gap: 12px;\n",
              "    }\n",
              "\n",
              "    .colab-df-convert {\n",
              "      background-color: #E8F0FE;\n",
              "      border: none;\n",
              "      border-radius: 50%;\n",
              "      cursor: pointer;\n",
              "      display: none;\n",
              "      fill: #1967D2;\n",
              "      height: 32px;\n",
              "      padding: 0 0 0 0;\n",
              "      width: 32px;\n",
              "    }\n",
              "\n",
              "    .colab-df-convert:hover {\n",
              "      background-color: #E2EBFA;\n",
              "      box-shadow: 0px 1px 2px rgba(60, 64, 67, 0.3), 0px 1px 3px 1px rgba(60, 64, 67, 0.15);\n",
              "      fill: #174EA6;\n",
              "    }\n",
              "\n",
              "    .colab-df-buttons div {\n",
              "      margin-bottom: 4px;\n",
              "    }\n",
              "\n",
              "    [theme=dark] .colab-df-convert {\n",
              "      background-color: #3B4455;\n",
              "      fill: #D2E3FC;\n",
              "    }\n",
              "\n",
              "    [theme=dark] .colab-df-convert:hover {\n",
              "      background-color: #434B5C;\n",
              "      box-shadow: 0px 1px 3px 1px rgba(0, 0, 0, 0.15);\n",
              "      filter: drop-shadow(0px 1px 2px rgba(0, 0, 0, 0.3));\n",
              "      fill: #FFFFFF;\n",
              "    }\n",
              "  </style>\n",
              "\n",
              "    <script>\n",
              "      const buttonEl =\n",
              "        document.querySelector('#df-8a5d8373-7ae9-4c19-b7cd-48e5e9f754a5 button.colab-df-convert');\n",
              "      buttonEl.style.display =\n",
              "        google.colab.kernel.accessAllowed ? 'block' : 'none';\n",
              "\n",
              "      async function convertToInteractive(key) {\n",
              "        const element = document.querySelector('#df-8a5d8373-7ae9-4c19-b7cd-48e5e9f754a5');\n",
              "        const dataTable =\n",
              "          await google.colab.kernel.invokeFunction('convertToInteractive',\n",
              "                                                    [key], {});\n",
              "        if (!dataTable) return;\n",
              "\n",
              "        const docLinkHtml = 'Like what you see? Visit the ' +\n",
              "          '<a target=\"_blank\" href=https://colab.research.google.com/notebooks/data_table.ipynb>data table notebook</a>'\n",
              "          + ' to learn more about interactive tables.';\n",
              "        element.innerHTML = '';\n",
              "        dataTable['output_type'] = 'display_data';\n",
              "        await google.colab.output.renderOutput(dataTable, element);\n",
              "        const docLink = document.createElement('div');\n",
              "        docLink.innerHTML = docLinkHtml;\n",
              "        element.appendChild(docLink);\n",
              "      }\n",
              "    </script>\n",
              "  </div>\n",
              "\n",
              "\n",
              "    <div id=\"df-f5400840-4699-4e45-99d0-1daf6f472ca3\">\n",
              "      <button class=\"colab-df-quickchart\" onclick=\"quickchart('df-f5400840-4699-4e45-99d0-1daf6f472ca3')\"\n",
              "                title=\"Suggest charts\"\n",
              "                style=\"display:none;\">\n",
              "\n",
              "<svg xmlns=\"http://www.w3.org/2000/svg\" height=\"24px\"viewBox=\"0 0 24 24\"\n",
              "     width=\"24px\">\n",
              "    <g>\n",
              "        <path d=\"M19 3H5c-1.1 0-2 .9-2 2v14c0 1.1.9 2 2 2h14c1.1 0 2-.9 2-2V5c0-1.1-.9-2-2-2zM9 17H7v-7h2v7zm4 0h-2V7h2v10zm4 0h-2v-4h2v4z\"/>\n",
              "    </g>\n",
              "</svg>\n",
              "      </button>\n",
              "\n",
              "<style>\n",
              "  .colab-df-quickchart {\n",
              "      --bg-color: #E8F0FE;\n",
              "      --fill-color: #1967D2;\n",
              "      --hover-bg-color: #E2EBFA;\n",
              "      --hover-fill-color: #174EA6;\n",
              "      --disabled-fill-color: #AAA;\n",
              "      --disabled-bg-color: #DDD;\n",
              "  }\n",
              "\n",
              "  [theme=dark] .colab-df-quickchart {\n",
              "      --bg-color: #3B4455;\n",
              "      --fill-color: #D2E3FC;\n",
              "      --hover-bg-color: #434B5C;\n",
              "      --hover-fill-color: #FFFFFF;\n",
              "      --disabled-bg-color: #3B4455;\n",
              "      --disabled-fill-color: #666;\n",
              "  }\n",
              "\n",
              "  .colab-df-quickchart {\n",
              "    background-color: var(--bg-color);\n",
              "    border: none;\n",
              "    border-radius: 50%;\n",
              "    cursor: pointer;\n",
              "    display: none;\n",
              "    fill: var(--fill-color);\n",
              "    height: 32px;\n",
              "    padding: 0;\n",
              "    width: 32px;\n",
              "  }\n",
              "\n",
              "  .colab-df-quickchart:hover {\n",
              "    background-color: var(--hover-bg-color);\n",
              "    box-shadow: 0 1px 2px rgba(60, 64, 67, 0.3), 0 1px 3px 1px rgba(60, 64, 67, 0.15);\n",
              "    fill: var(--button-hover-fill-color);\n",
              "  }\n",
              "\n",
              "  .colab-df-quickchart-complete:disabled,\n",
              "  .colab-df-quickchart-complete:disabled:hover {\n",
              "    background-color: var(--disabled-bg-color);\n",
              "    fill: var(--disabled-fill-color);\n",
              "    box-shadow: none;\n",
              "  }\n",
              "\n",
              "  .colab-df-spinner {\n",
              "    border: 2px solid var(--fill-color);\n",
              "    border-color: transparent;\n",
              "    border-bottom-color: var(--fill-color);\n",
              "    animation:\n",
              "      spin 1s steps(1) infinite;\n",
              "  }\n",
              "\n",
              "  @keyframes spin {\n",
              "    0% {\n",
              "      border-color: transparent;\n",
              "      border-bottom-color: var(--fill-color);\n",
              "      border-left-color: var(--fill-color);\n",
              "    }\n",
              "    20% {\n",
              "      border-color: transparent;\n",
              "      border-left-color: var(--fill-color);\n",
              "      border-top-color: var(--fill-color);\n",
              "    }\n",
              "    30% {\n",
              "      border-color: transparent;\n",
              "      border-left-color: var(--fill-color);\n",
              "      border-top-color: var(--fill-color);\n",
              "      border-right-color: var(--fill-color);\n",
              "    }\n",
              "    40% {\n",
              "      border-color: transparent;\n",
              "      border-right-color: var(--fill-color);\n",
              "      border-top-color: var(--fill-color);\n",
              "    }\n",
              "    60% {\n",
              "      border-color: transparent;\n",
              "      border-right-color: var(--fill-color);\n",
              "    }\n",
              "    80% {\n",
              "      border-color: transparent;\n",
              "      border-right-color: var(--fill-color);\n",
              "      border-bottom-color: var(--fill-color);\n",
              "    }\n",
              "    90% {\n",
              "      border-color: transparent;\n",
              "      border-bottom-color: var(--fill-color);\n",
              "    }\n",
              "  }\n",
              "</style>\n",
              "\n",
              "      <script>\n",
              "        async function quickchart(key) {\n",
              "          const quickchartButtonEl =\n",
              "            document.querySelector('#' + key + ' button');\n",
              "          quickchartButtonEl.disabled = true;  // To prevent multiple clicks.\n",
              "          quickchartButtonEl.classList.add('colab-df-spinner');\n",
              "          try {\n",
              "            const charts = await google.colab.kernel.invokeFunction(\n",
              "                'suggestCharts', [key], {});\n",
              "          } catch (error) {\n",
              "            console.error('Error during call to suggestCharts:', error);\n",
              "          }\n",
              "          quickchartButtonEl.classList.remove('colab-df-spinner');\n",
              "          quickchartButtonEl.classList.add('colab-df-quickchart-complete');\n",
              "        }\n",
              "        (() => {\n",
              "          let quickchartButtonEl =\n",
              "            document.querySelector('#df-f5400840-4699-4e45-99d0-1daf6f472ca3 button');\n",
              "          quickchartButtonEl.style.display =\n",
              "            google.colab.kernel.accessAllowed ? 'block' : 'none';\n",
              "        })();\n",
              "      </script>\n",
              "    </div>\n",
              "\n",
              "    </div>\n",
              "  </div>\n"
            ],
            "application/vnd.google.colaboratory.intrinsic+json": {
              "type": "dataframe",
              "variable_name": "df_marriage",
              "summary": "{\n  \"name\": \"df_marriage\",\n  \"rows\": 10000,\n  \"fields\": [\n    {\n      \"column\": \"ID\",\n      \"properties\": {\n        \"dtype\": \"number\",\n        \"std\": 2886,\n        \"min\": 1,\n        \"max\": 10000,\n        \"num_unique_values\": 10000,\n        \"samples\": [\n          6253,\n          4685,\n          1732\n        ],\n        \"semantic_type\": \"\",\n        \"description\": \"\"\n      }\n    },\n    {\n      \"column\": \"Marriage_Type\",\n      \"properties\": {\n        \"dtype\": \"category\",\n        \"num_unique_values\": 2,\n        \"samples\": [\n          \"Arranged\",\n          \"Love\"\n        ],\n        \"semantic_type\": \"\",\n        \"description\": \"\"\n      }\n    },\n    {\n      \"column\": \"Age_at_Marriage\",\n      \"properties\": {\n        \"dtype\": \"number\",\n        \"std\": 6,\n        \"min\": 18,\n        \"max\": 39,\n        \"num_unique_values\": 22,\n        \"samples\": [\n          23,\n          27\n        ],\n        \"semantic_type\": \"\",\n        \"description\": \"\"\n      }\n    },\n    {\n      \"column\": \"Gender\",\n      \"properties\": {\n        \"dtype\": \"category\",\n        \"num_unique_values\": 2,\n        \"samples\": [\n          \"Female\",\n          \"Male\"\n        ],\n        \"semantic_type\": \"\",\n        \"description\": \"\"\n      }\n    },\n    {\n      \"column\": \"Education_Level\",\n      \"properties\": {\n        \"dtype\": \"category\",\n        \"num_unique_values\": 4,\n        \"samples\": [\n          \"School\",\n          \"PhD\"\n        ],\n        \"semantic_type\": \"\",\n        \"description\": \"\"\n      }\n    },\n    {\n      \"column\": \"Caste_Match\",\n      \"properties\": {\n        \"dtype\": \"category\",\n        \"num_unique_values\": 2,\n        \"samples\": [\n          \"Same\",\n          \"Different\"\n        ],\n        \"semantic_type\": \"\",\n        \"description\": \"\"\n      }\n    },\n    {\n      \"column\": \"Religion\",\n      \"properties\": {\n        \"dtype\": \"category\",\n        \"num_unique_values\": 5,\n        \"samples\": [\n          \"Muslim\",\n          \"Others\"\n        ],\n        \"semantic_type\": \"\",\n        \"description\": \"\"\n      }\n    },\n    {\n      \"column\": \"Parental_Approval\",\n      \"properties\": {\n        \"dtype\": \"category\",\n        \"num_unique_values\": 3,\n        \"samples\": [\n          \"No\",\n          \"Yes\"\n        ],\n        \"semantic_type\": \"\",\n        \"description\": \"\"\n      }\n    },\n    {\n      \"column\": \"Urban_Rural\",\n      \"properties\": {\n        \"dtype\": \"category\",\n        \"num_unique_values\": 2,\n        \"samples\": [\n          \"Rural\",\n          \"Urban\"\n        ],\n        \"semantic_type\": \"\",\n        \"description\": \"\"\n      }\n    },\n    {\n      \"column\": \"Dowry_Exchanged\",\n      \"properties\": {\n        \"dtype\": \"category\",\n        \"num_unique_values\": 3,\n        \"samples\": [\n          \"No\",\n          \"Yes\"\n        ],\n        \"semantic_type\": \"\",\n        \"description\": \"\"\n      }\n    },\n    {\n      \"column\": \"Marital_Satisfaction\",\n      \"properties\": {\n        \"dtype\": \"category\",\n        \"num_unique_values\": 3,\n        \"samples\": [\n          \"Medium\",\n          \"Low\"\n        ],\n        \"semantic_type\": \"\",\n        \"description\": \"\"\n      }\n    },\n    {\n      \"column\": \"Divorce_Status\",\n      \"properties\": {\n        \"dtype\": \"category\",\n        \"num_unique_values\": 2,\n        \"samples\": [\n          \"No\",\n          \"Yes\"\n        ],\n        \"semantic_type\": \"\",\n        \"description\": \"\"\n      }\n    },\n    {\n      \"column\": \"Children_Count\",\n      \"properties\": {\n        \"dtype\": \"number\",\n        \"std\": 1,\n        \"min\": 0,\n        \"max\": 5,\n        \"num_unique_values\": 6,\n        \"samples\": [\n          5,\n          3\n        ],\n        \"semantic_type\": \"\",\n        \"description\": \"\"\n      }\n    },\n    {\n      \"column\": \"Income_Level\",\n      \"properties\": {\n        \"dtype\": \"category\",\n        \"num_unique_values\": 3,\n        \"samples\": [\n          \"Middle\",\n          \"High\"\n        ],\n        \"semantic_type\": \"\",\n        \"description\": \"\"\n      }\n    },\n    {\n      \"column\": \"Years_Since_Marriage\",\n      \"properties\": {\n        \"dtype\": \"number\",\n        \"std\": 14,\n        \"min\": 1,\n        \"max\": 49,\n        \"num_unique_values\": 49,\n        \"samples\": [\n          1,\n          2\n        ],\n        \"semantic_type\": \"\",\n        \"description\": \"\"\n      }\n    },\n    {\n      \"column\": \"Spouse_Working\",\n      \"properties\": {\n        \"dtype\": \"category\",\n        \"num_unique_values\": 2,\n        \"samples\": [\n          \"Yes\",\n          \"No\"\n        ],\n        \"semantic_type\": \"\",\n        \"description\": \"\"\n      }\n    },\n    {\n      \"column\": \"Inter-Caste\",\n      \"properties\": {\n        \"dtype\": \"category\",\n        \"num_unique_values\": 2,\n        \"samples\": [\n          \"Yes\",\n          \"No\"\n        ],\n        \"semantic_type\": \"\",\n        \"description\": \"\"\n      }\n    },\n    {\n      \"column\": \"Inter-Religion\",\n      \"properties\": {\n        \"dtype\": \"category\",\n        \"num_unique_values\": 2,\n        \"samples\": [\n          \"Yes\",\n          \"No\"\n        ],\n        \"semantic_type\": \"\",\n        \"description\": \"\"\n      }\n    }\n  ]\n}"
            }
          },
          "metadata": {},
          "execution_count": 35
        }
      ]
    },
    {
      "cell_type": "markdown",
      "source": [
        "## **เปรียบเทียบจำนวนคนที่แต่งงานโดยการคลุมถุงชน และรักกันจริง ๆ**"
      ],
      "metadata": {
        "id": "Qj-FVpD1yWgB"
      }
    },
    {
      "cell_type": "code",
      "source": [
        "df_marriage['Marriage_Type'].value_counts()"
      ],
      "metadata": {
        "colab": {
          "base_uri": "https://localhost:8080/",
          "height": 176
        },
        "id": "YYcCuiS8uXnq",
        "outputId": "5af518f8-8722-4f2a-8443-73b52bbf9b88"
      },
      "execution_count": 36,
      "outputs": [
        {
          "output_type": "execute_result",
          "data": {
            "text/plain": [
              "Marriage_Type\n",
              "Arranged    6022\n",
              "Love        3978\n",
              "Name: count, dtype: int64"
            ],
            "text/html": [
              "<div>\n",
              "<style scoped>\n",
              "    .dataframe tbody tr th:only-of-type {\n",
              "        vertical-align: middle;\n",
              "    }\n",
              "\n",
              "    .dataframe tbody tr th {\n",
              "        vertical-align: top;\n",
              "    }\n",
              "\n",
              "    .dataframe thead th {\n",
              "        text-align: right;\n",
              "    }\n",
              "</style>\n",
              "<table border=\"1\" class=\"dataframe\">\n",
              "  <thead>\n",
              "    <tr style=\"text-align: right;\">\n",
              "      <th></th>\n",
              "      <th>count</th>\n",
              "    </tr>\n",
              "    <tr>\n",
              "      <th>Marriage_Type</th>\n",
              "      <th></th>\n",
              "    </tr>\n",
              "  </thead>\n",
              "  <tbody>\n",
              "    <tr>\n",
              "      <th>Arranged</th>\n",
              "      <td>6022</td>\n",
              "    </tr>\n",
              "    <tr>\n",
              "      <th>Love</th>\n",
              "      <td>3978</td>\n",
              "    </tr>\n",
              "  </tbody>\n",
              "</table>\n",
              "</div><br><label><b>dtype:</b> int64</label>"
            ]
          },
          "metadata": {},
          "execution_count": 36
        }
      ]
    },
    {
      "cell_type": "markdown",
      "source": [
        "## **จะเห็นว่าจำนวนคนที่แต่งงานโดยการคลุมถุงชนจะมีอัตราส่วนมากกว่าคนที่รักกันจริง**"
      ],
      "metadata": {
        "id": "9zn6YuUOy92k"
      }
    },
    {
      "cell_type": "code",
      "source": [
        "counts = df_marriage['Marriage_Type'].value_counts()\n",
        "plt.figure(figsize=(5,5))\n",
        "colors = ['#e84e40','#f8bbd0']\n",
        "counts.plot.pie(autopct='%1.1f%%', startangle=90, counterclock=False, colors=colors)\n",
        "plt.title('Marriage Type')\n",
        "plt.ylabel('')\n",
        "plt.show()"
      ],
      "metadata": {
        "colab": {
          "base_uri": "https://localhost:8080/",
          "height": 444
        },
        "id": "N_nD60-8-Wsd",
        "outputId": "6e50a8ab-74f7-4ae2-92a5-c7a56fe14cb5"
      },
      "execution_count": 37,
      "outputs": [
        {
          "output_type": "display_data",
          "data": {
            "text/plain": [
              "<Figure size 500x500 with 1 Axes>"
            ],
            "image/png": "[encoded data removed]"
          },
          "metadata": {}
        }
      ]
    },
    {
      "cell_type": "markdown",
      "source": [
        "## **ต่อมาจะดูว่าช่วงอายุของการคลุมถุงชนและรักกันจริง ๆ เป็นอย่างไร**"
      ],
      "metadata": {
        "id": "IVw3XdWuzfyB"
      }
    },
    {
      "cell_type": "code",
      "source": [
        "filtered_df = df_marriage[df_marriage['Marriage_Type'] == 'Love'].copy()\n",
        "filtered_df['Love'] = filtered_df['Marriage_Type'].astype(str) + ' ' + filtered_df['Age_at_Marriage'].astype(str)\n",
        "print(filtered_df['Love'])"
      ],
      "metadata": {
        "colab": {
          "base_uri": "https://localhost:8080/"
        },
        "id": "9Qy3hNKLM1E0",
        "outputId": "70abe455-d36f-40a0-e71d-5821c25473a1"
      },
      "execution_count": 38,
      "outputs": [
        {
          "output_type": "stream",
          "name": "stdout",
          "text": [
            "0       Love 23\n",
            "1       Love 28\n",
            "4       Love 32\n",
            "5       Love 37\n",
            "11      Love 31\n",
            "         ...   \n",
            "9989    Love 38\n",
            "9990    Love 23\n",
            "9992    Love 18\n",
            "9995    Love 25\n",
            "9997    Love 22\n",
            "Name: Love, Length: 3978, dtype: object\n"
          ]
        }
      ]
    },
    {
      "cell_type": "code",
      "source": [
        "filtered_df = df_marriage[df_marriage['Marriage_Type'] == 'Arranged'].copy()\n",
        "filtered_df['Arranged'] = filtered_df['Marriage_Type'].astype(str) + ' ' + filtered_df['Age_at_Marriage'].astype(str)\n",
        "print(filtered_df['Arranged'])"
      ],
      "metadata": {
        "colab": {
          "base_uri": "https://localhost:8080/"
        },
        "id": "6rm_sl_IPUbG",
        "outputId": "8afdccd4-c8cc-448d-e82c-e611b14ba7cb"
      },
      "execution_count": 39,
      "outputs": [
        {
          "output_type": "stream",
          "name": "stdout",
          "text": [
            "2       Arranged 39\n",
            "3       Arranged 26\n",
            "6       Arranged 24\n",
            "7       Arranged 18\n",
            "8       Arranged 22\n",
            "           ...     \n",
            "9993    Arranged 24\n",
            "9994    Arranged 20\n",
            "9996    Arranged 31\n",
            "9998    Arranged 39\n",
            "9999    Arranged 36\n",
            "Name: Arranged, Length: 6022, dtype: object\n"
          ]
        }
      ]
    },
    {
      "cell_type": "markdown",
      "source": [
        "## **จะเห็นว่าจำนวนคนแต่งงานแบบรักกันจริง ช่วงอายุที่แต่งงานมากที่สุดจะอยู่ในช่วง 25 - 30 ปี**"
      ],
      "metadata": {
        "id": "fTFYwGYQzzNu"
      }
    },
    {
      "cell_type": "code",
      "source": [
        "ages_love = df_marriage[df_marriage['Marriage_Type'] == 'Love']['Age_at_Marriage'].copy()\n",
        "bins = [15, 20, 25, 30, 35, 40]\n",
        "groups = pd.cut(ages_love, bins=bins, right=False)\n",
        "counts = groups.value_counts().sort_index()\n",
        "print(counts)"
      ],
      "metadata": {
        "colab": {
          "base_uri": "https://localhost:8080/"
        },
        "id": "xdbwVBtWPm5U",
        "outputId": "748528bf-00c5-4527-b66b-7a9d5e4b5282"
      },
      "execution_count": 40,
      "outputs": [
        {
          "output_type": "stream",
          "name": "stdout",
          "text": [
            "Age_at_Marriage\n",
            "[15, 20)    360\n",
            "[20, 25)    849\n",
            "[25, 30)    966\n",
            "[30, 35)    916\n",
            "[35, 40)    887\n",
            "Name: count, dtype: int64\n"
          ]
        }
      ]
    },
    {
      "cell_type": "markdown",
      "source": [
        "# **ในทางกลับกัน จำนวนคนแต่งงานโดยการคลุมถุงชนที่มากที่สุดจะอยู่ในช่วงอายุ 30 - 35 ปี**"
      ],
      "metadata": {
        "id": "e-XV54QM0SG9"
      }
    },
    {
      "cell_type": "code",
      "source": [
        "ages_Arranged = df_marriage[df_marriage['Marriage_Type'] == 'Arranged']['Age_at_Marriage'].copy()\n",
        "bins = [15, 20, 25, 30, 35, 40]\n",
        "groups = pd.cut(ages_Arranged, bins=bins, right=False)\n",
        "counts = groups.value_counts().sort_index()\n",
        "print(counts)"
      ],
      "metadata": {
        "colab": {
          "base_uri": "https://localhost:8080/"
        },
        "id": "BXYZkqQ0RTl3",
        "outputId": "ec4a1cec-ed7d-4817-d1e8-b7ba23691f8e"
      },
      "execution_count": 41,
      "outputs": [
        {
          "output_type": "stream",
          "name": "stdout",
          "text": [
            "Age_at_Marriage\n",
            "[15, 20)     532\n",
            "[20, 25)    1375\n",
            "[25, 30)    1377\n",
            "[30, 35)    1403\n",
            "[35, 40)    1335\n",
            "Name: count, dtype: int64\n"
          ]
        }
      ]
    },
    {
      "cell_type": "markdown",
      "source": [
        "## **พอลองนำข้อมูลทั้งสองมาเปรียบเทียบตามช่วงอายุจะได้แผนภาพตามด้านล่าง**"
      ],
      "metadata": {
        "id": "AMNlDcpE0vUa"
      }
    },
    {
      "cell_type": "code",
      "source": [
        "ages_love = df_marriage[df_marriage['Marriage_Type'] == 'Love']['Age_at_Marriage'].copy()\n",
        "bins = [15, 20, 25, 30, 35, 40]\n",
        "groups_love = pd.cut(ages_love, bins=bins, right=False)\n",
        "counts_love = groups_love.value_counts().sort_index()\n",
        "\n",
        "ages_arranged = df_marriage[df_marriage['Marriage_Type'] == 'Arranged']['Age_at_Marriage'].copy()\n",
        "groups_arranged = pd.cut(ages_arranged, bins=bins, right=False)\n",
        "counts_arranged = groups_arranged.value_counts().sort_index()\n",
        "\n",
        "combined_counts = pd.DataFrame({\n",
        "    'Love': counts_love,\n",
        "    'Arranged': counts_arranged\n",
        "})\n",
        "\n",
        "plt.figure(figsize=(8,5))\n",
        "combined_counts.plot(kind='bar', color=['#f8bbd0', '#e84e40'])\n",
        "\n",
        "plt.title('Number of People by Age at Marriage Range')\n",
        "plt.xlabel('Age Range (Years)')\n",
        "plt.ylabel('Number of People')\n",
        "plt.xticks(rotation=0)\n",
        "plt.grid(axis='y', linestyle='--', alpha=0.7)\n",
        "plt.tight_layout()\n",
        "plt.show()"
      ],
      "metadata": {
        "colab": {
          "base_uri": "https://localhost:8080/",
          "height": 504
        },
        "id": "gK-LY7wRT7s3",
        "outputId": "1d9211b9-3ce8-449c-8186-df40b9a7e7b1"
      },
      "execution_count": 42,
      "outputs": [
        {
          "output_type": "display_data",
          "data": {
            "text/plain": [
              "<Figure size 800x500 with 0 Axes>"
            ]
          },
          "metadata": {}
        },
        {
          "output_type": "display_data",
          "data": {
            "text/plain": [
              "<Figure size 640x480 with 1 Axes>"
            ],
            "image/png": "[encoded data removed]"
          },
          "metadata": {}
        }
      ]
    },
    {
      "cell_type": "markdown",
      "source": [
        "## **ความพึงพอใจในการแต่งงาน**"
      ],
      "metadata": {
        "id": "xRE-yRFDjHng"
      }
    },
    {
      "cell_type": "code",
      "source": [
        "filtered_df = df_marriage[df_marriage['Marriage_Type'] == 'Love'].copy()\n",
        "filtered_df['Love'] = filtered_df['Marriage_Type'].astype(str) + ' ' + filtered_df['Marital_Satisfaction'].astype(str)\n",
        "gender_counts = filtered_df['Marital_Satisfaction'].value_counts()\n",
        "print(gender_counts)"
      ],
      "metadata": {
        "colab": {
          "base_uri": "https://localhost:8080/"
        },
        "id": "bf4E1MYbjNUU",
        "outputId": "6d2fbd84-1918-44c2-d9b9-b1108c9f3805"
      },
      "execution_count": 43,
      "outputs": [
        {
          "output_type": "stream",
          "name": "stdout",
          "text": [
            "Marital_Satisfaction\n",
            "Medium    1987\n",
            "High      1182\n",
            "Low        809\n",
            "Name: count, dtype: int64\n"
          ]
        }
      ]
    },
    {
      "cell_type": "code",
      "source": [
        "filtered_df = df_marriage[df_marriage['Marriage_Type'] == 'Arranged'].copy()\n",
        "filtered_df['Arranged'] = filtered_df['Marriage_Type'].astype(str) + ' ' + filtered_df['Marital_Satisfaction'].astype(str)\n",
        "gender_counts = filtered_df['Marital_Satisfaction'].value_counts()\n",
        "print(gender_counts)"
      ],
      "metadata": {
        "colab": {
          "base_uri": "https://localhost:8080/"
        },
        "id": "StlU4CuDihuV",
        "outputId": "d159c21a-eec6-4325-f33f-249eb68484e4"
      },
      "execution_count": 44,
      "outputs": [
        {
          "output_type": "stream",
          "name": "stdout",
          "text": [
            "Marital_Satisfaction\n",
            "Medium    3014\n",
            "High      1811\n",
            "Low       1197\n",
            "Name: count, dtype: int64\n"
          ]
        }
      ]
    },
    {
      "cell_type": "code",
      "source": [
        "satisfaction = df_marriage.groupby('Marriage_Type')['Marital_Satisfaction'].value_counts().unstack()\n",
        "satisfaction = satisfaction[['Low', 'Medium', 'High']]\n",
        "satisfaction.plot(\n",
        "    kind='bar',\n",
        "    figsize=(8, 5),\n",
        "    stacked=True,\n",
        "    colormap='Pastel1'\n",
        ")\n",
        "\n",
        "plt.title('Marital Satisfaction by Marriage Type')\n",
        "plt.xlabel('Marriage Type')\n",
        "plt.ylabel('Number of People')\n",
        "plt.xticks(rotation=0)\n",
        "plt.tight_layout()\n",
        "plt.show()\n"
      ],
      "metadata": {
        "colab": {
          "base_uri": "https://localhost:8080/",
          "height": 507
        },
        "id": "9n20aAKVj1Us",
        "outputId": "801fcb0b-f6a2-432b-e672-6c0191d36df9"
      },
      "execution_count": 45,
      "outputs": [
        {
          "output_type": "display_data",
          "data": {
            "text/plain": [
              "<Figure size 800x500 with 1 Axes>"
            ],
            "image/png": "[encoded data removed]"
          },
          "metadata": {}
        }
      ]
    },
    {
      "cell_type": "markdown",
      "source": [
        "## **ต่อมาจะมาดูว่าคนที่แต่งงาน ทั้งคลุมถุงชน และรักกันจริง ๆ ระดับการศึกษาของพวกเขาเป็นอย่างไร**"
      ],
      "metadata": {
        "id": "wdnf7q_YeyaS"
      }
    },
    {
      "cell_type": "code",
      "source": [
        "df_marriage['Education_Level'].value_counts()"
      ],
      "metadata": {
        "colab": {
          "base_uri": "https://localhost:8080/",
          "height": 238
        },
        "id": "N_NIpHjHtSQP",
        "outputId": "79215819-b4d2-44ff-e955-823d48042ae5"
      },
      "execution_count": 46,
      "outputs": [
        {
          "output_type": "execute_result",
          "data": {
            "text/plain": [
              "Education_Level\n",
              "Graduate        3943\n",
              "School          3073\n",
              "Postgraduate    2018\n",
              "PhD              966\n",
              "Name: count, dtype: int64"
            ],
            "text/html": [
              "<div>\n",
              "<style scoped>\n",
              "    .dataframe tbody tr th:only-of-type {\n",
              "        vertical-align: middle;\n",
              "    }\n",
              "\n",
              "    .dataframe tbody tr th {\n",
              "        vertical-align: top;\n",
              "    }\n",
              "\n",
              "    .dataframe thead th {\n",
              "        text-align: right;\n",
              "    }\n",
              "</style>\n",
              "<table border=\"1\" class=\"dataframe\">\n",
              "  <thead>\n",
              "    <tr style=\"text-align: right;\">\n",
              "      <th></th>\n",
              "      <th>count</th>\n",
              "    </tr>\n",
              "    <tr>\n",
              "      <th>Education_Level</th>\n",
              "      <th></th>\n",
              "    </tr>\n",
              "  </thead>\n",
              "  <tbody>\n",
              "    <tr>\n",
              "      <th>Graduate</th>\n",
              "      <td>3943</td>\n",
              "    </tr>\n",
              "    <tr>\n",
              "      <th>School</th>\n",
              "      <td>3073</td>\n",
              "    </tr>\n",
              "    <tr>\n",
              "      <th>Postgraduate</th>\n",
              "      <td>2018</td>\n",
              "    </tr>\n",
              "    <tr>\n",
              "      <th>PhD</th>\n",
              "      <td>966</td>\n",
              "    </tr>\n",
              "  </tbody>\n",
              "</table>\n",
              "</div><br><label><b>dtype:</b> int64</label>"
            ]
          },
          "metadata": {},
          "execution_count": 46
        }
      ]
    },
    {
      "cell_type": "markdown",
      "source": [
        "## **โดยส่วนใหญ่แล้ว การแต่งงานทั้งสองประเภทก็จะอยู่ในช่วง Graduate**"
      ],
      "metadata": {
        "id": "eRGDlMzKoE4r"
      }
    },
    {
      "cell_type": "code",
      "source": [
        "edu_order = ['School', 'Graduate', 'Postgraduate', 'PhD']\n",
        "edu_by_marriage = df_marriage.groupby('Marriage_Type')['Education_Level'].value_counts().unstack()\n",
        "edu_by_marriage = edu_by_marriage[edu_order]\n",
        "colors = ['#90caf9', '#64b5f6', '#42a5f5', '#1e88e5']\n",
        "\n",
        "edu_by_marriage.plot(kind='bar', stacked=True, figsize=(8, 5), color=colors)\n",
        "\n",
        "plt.title('Education Level by Marriage Type')\n",
        "plt.ylabel('Number of People')\n",
        "plt.xlabel('Marriage Type')\n",
        "plt.xticks(rotation=0)\n",
        "plt.legend(title='Education Level')\n",
        "plt.tight_layout()\n",
        "plt.show()\n"
      ],
      "metadata": {
        "colab": {
          "base_uri": "https://localhost:8080/",
          "height": 507
        },
        "id": "NTsTutqHvt1r",
        "outputId": "d5bfbf94-53af-4496-8ce1-b1c511a2f44a"
      },
      "execution_count": 47,
      "outputs": [
        {
          "output_type": "display_data",
          "data": {
            "text/plain": [
              "<Figure size 800x500 with 1 Axes>"
            ],
            "image/png": "[encoded data removed]"
          },
          "metadata": {}
        }
      ]
    },
    {
      "cell_type": "markdown",
      "source": [
        "## **สัดส่วนของชายหญิงที่แต่งงานโดยรักกันจริง**"
      ],
      "metadata": {
        "id": "IpB2LwFNfgVD"
      }
    },
    {
      "cell_type": "code",
      "source": [
        "filtered_df = df_marriage[df_marriage['Marriage_Type'] == 'Love'].copy()\n",
        "filtered_df['Love'] = filtered_df['Marriage_Type'].astype(str) + ' ' + filtered_df['Gender'].astype(str)\n",
        "gender_counts = filtered_df['Gender'].value_counts()\n",
        "print(gender_counts)"
      ],
      "metadata": {
        "colab": {
          "base_uri": "https://localhost:8080/"
        },
        "id": "XUqMgEDiUV3F",
        "outputId": "cdab4d54-c8ed-4e1b-e178-954e2dd2d4d9"
      },
      "execution_count": 48,
      "outputs": [
        {
          "output_type": "stream",
          "name": "stdout",
          "text": [
            "Gender\n",
            "Female    2048\n",
            "Male      1930\n",
            "Name: count, dtype: int64\n"
          ]
        }
      ]
    },
    {
      "cell_type": "markdown",
      "source": [
        "## **สัดส่วนชายหญิงที่แต่งงานโดยคลุมถุงชน**"
      ],
      "metadata": {
        "id": "4C4jjHfyfstW"
      }
    },
    {
      "cell_type": "code",
      "source": [
        "filtered_df = df_marriage[df_marriage['Marriage_Type'] == 'Arranged'].copy()\n",
        "filtered_df['Arranged'] = filtered_df['Marriage_Type'].astype(str) + ' ' + filtered_df['Gender'].astype(str)\n",
        "gender_counts = filtered_df['Gender'].value_counts()\n",
        "print(gender_counts)"
      ],
      "metadata": {
        "colab": {
          "base_uri": "https://localhost:8080/"
        },
        "id": "5YbzatyfV0nn",
        "outputId": "788de595-009e-494f-bff8-a60d3816b1b4"
      },
      "execution_count": 49,
      "outputs": [
        {
          "output_type": "stream",
          "name": "stdout",
          "text": [
            "Gender\n",
            "Female    3061\n",
            "Male      2961\n",
            "Name: count, dtype: int64\n"
          ]
        }
      ]
    },
    {
      "cell_type": "markdown",
      "source": [
        "## **ต่อมาเราจะมาดูว่าสัดส่วนของคนแต่งงานที่อยู่ในเมืองหรือชนบาทมีมากกว่ากัน**"
      ],
      "metadata": {
        "id": "hdIQ1_7hf2C6"
      }
    },
    {
      "cell_type": "code",
      "source": [
        "df_marriage['Urban_Rural'].value_counts()"
      ],
      "metadata": {
        "colab": {
          "base_uri": "https://localhost:8080/",
          "height": 176
        },
        "id": "I8EBvZDZgPco",
        "outputId": "dc6bcb91-7750-4c98-bc85-3a536ad7be72"
      },
      "execution_count": 50,
      "outputs": [
        {
          "output_type": "execute_result",
          "data": {
            "text/plain": [
              "Urban_Rural\n",
              "Urban    6046\n",
              "Rural    3954\n",
              "Name: count, dtype: int64"
            ],
            "text/html": [
              "<div>\n",
              "<style scoped>\n",
              "    .dataframe tbody tr th:only-of-type {\n",
              "        vertical-align: middle;\n",
              "    }\n",
              "\n",
              "    .dataframe tbody tr th {\n",
              "        vertical-align: top;\n",
              "    }\n",
              "\n",
              "    .dataframe thead th {\n",
              "        text-align: right;\n",
              "    }\n",
              "</style>\n",
              "<table border=\"1\" class=\"dataframe\">\n",
              "  <thead>\n",
              "    <tr style=\"text-align: right;\">\n",
              "      <th></th>\n",
              "      <th>count</th>\n",
              "    </tr>\n",
              "    <tr>\n",
              "      <th>Urban_Rural</th>\n",
              "      <th></th>\n",
              "    </tr>\n",
              "  </thead>\n",
              "  <tbody>\n",
              "    <tr>\n",
              "      <th>Urban</th>\n",
              "      <td>6046</td>\n",
              "    </tr>\n",
              "    <tr>\n",
              "      <th>Rural</th>\n",
              "      <td>3954</td>\n",
              "    </tr>\n",
              "  </tbody>\n",
              "</table>\n",
              "</div><br><label><b>dtype:</b> int64</label>"
            ]
          },
          "metadata": {},
          "execution_count": 50
        }
      ]
    },
    {
      "cell_type": "code",
      "source": [
        "filtered_df = df_marriage[df_marriage['Marriage_Type'] == 'Love'].copy()\n",
        "filtered_df['Love'] = filtered_df['Marriage_Type'].astype(str) + ' ' + filtered_df['Urban_Rural'].astype(str)\n",
        "print(filtered_df['Love'])"
      ],
      "metadata": {
        "colab": {
          "base_uri": "https://localhost:8080/"
        },
        "id": "kkPUK_1PX-BM",
        "outputId": "4b932ae3-084a-4050-ac4a-44d3f194b8c6"
      },
      "execution_count": 51,
      "outputs": [
        {
          "output_type": "stream",
          "name": "stdout",
          "text": [
            "0       Love Urban\n",
            "1       Love Rural\n",
            "4       Love Rural\n",
            "5       Love Urban\n",
            "11      Love Rural\n",
            "           ...    \n",
            "9989    Love Rural\n",
            "9990    Love Urban\n",
            "9992    Love Urban\n",
            "9995    Love Urban\n",
            "9997    Love Rural\n",
            "Name: Love, Length: 3978, dtype: object\n"
          ]
        }
      ]
    },
    {
      "cell_type": "markdown",
      "source": [
        "## **จะเห็นว่าในเมือง การแต่งงานแบบทั้งรักกันจริงและถูกคลุมถุงชนมากกว่าในชนบททั้งคู่**"
      ],
      "metadata": {
        "id": "CUcXO1_bkq6s"
      }
    },
    {
      "cell_type": "code",
      "source": [
        "filtered_df = df_marriage[df_marriage['Marriage_Type'] == 'Love'].copy()\n",
        "filtered_df['Love'] = filtered_df['Marriage_Type'].astype(str) + ' ' + filtered_df['Urban_Rural'].astype(str)\n",
        "Love_counts = filtered_df['Urban_Rural'].value_counts()\n",
        "print(Love_counts)"
      ],
      "metadata": {
        "colab": {
          "base_uri": "https://localhost:8080/"
        },
        "id": "jdKfboZ4YVZM",
        "outputId": "1f5c9ab7-d31b-4ff4-a072-21ea5d055d12"
      },
      "execution_count": 52,
      "outputs": [
        {
          "output_type": "stream",
          "name": "stdout",
          "text": [
            "Urban_Rural\n",
            "Urban    2411\n",
            "Rural    1567\n",
            "Name: count, dtype: int64\n"
          ]
        }
      ]
    },
    {
      "cell_type": "code",
      "source": [
        "filtered_df = df_marriage[df_marriage['Marriage_Type'] == 'Arranged'].copy()\n",
        "filtered_df['Arranged'] = filtered_df['Marriage_Type'].astype(str) + ' ' + filtered_df['Urban_Rural'].astype(str)\n",
        "Arranged_counts = filtered_df['Urban_Rural'].value_counts()\n",
        "print(Arranged_counts)"
      ],
      "metadata": {
        "colab": {
          "base_uri": "https://localhost:8080/"
        },
        "id": "8ynraC1WY01n",
        "outputId": "8340cc6a-1d21-4d68-9557-a7417f58e0f2"
      },
      "execution_count": 53,
      "outputs": [
        {
          "output_type": "stream",
          "name": "stdout",
          "text": [
            "Urban_Rural\n",
            "Urban    3635\n",
            "Rural    2387\n",
            "Name: count, dtype: int64\n"
          ]
        }
      ]
    },
    {
      "cell_type": "markdown",
      "source": [
        "## **ดูว่ามีการแต่งงานแบบข้ามวรรณะมากน้อยแค่ไหน**"
      ],
      "metadata": {
        "id": "ben2E_PolLz1"
      }
    },
    {
      "cell_type": "code",
      "source": [
        "counts = df_marriage['Caste_Match'].value_counts()\n",
        "percentages = df_marriage['Caste_Match'].value_counts(normalize=True) * 100\n",
        "summary = pd.DataFrame({\n",
        "    'Count': counts,\n",
        "    'Percentage (%)': percentages.round(2)\n",
        "})\n",
        "print(summary)\n"
      ],
      "metadata": {
        "colab": {
          "base_uri": "https://localhost:8080/"
        },
        "id": "5mb7YO7fZeB1",
        "outputId": "d527d417-face-47ec-e426-e313e5a74d1b"
      },
      "execution_count": 54,
      "outputs": [
        {
          "output_type": "stream",
          "name": "stdout",
          "text": [
            "             Count  Percentage (%)\n",
            "Caste_Match                       \n",
            "Same          7071           70.71\n",
            "Different     2929           29.29\n"
          ]
        }
      ]
    },
    {
      "cell_type": "code",
      "source": [
        "filtered_df = df_marriage[df_marriage['Marriage_Type'] == 'Love'].copy()\n",
        "filtered_df['Love'] = filtered_df['Marriage_Type'].astype(str) + ' ' + filtered_df['Divorce_Status'].astype(str)\n",
        "print(filtered_df['Love'])"
      ],
      "metadata": {
        "colab": {
          "base_uri": "https://localhost:8080/"
        },
        "id": "BSEjxhuaZ4wN",
        "outputId": "887c915a-7a78-4464-82b4-ce99a635dc69"
      },
      "execution_count": 55,
      "outputs": [
        {
          "output_type": "stream",
          "name": "stdout",
          "text": [
            "0       Love Yes\n",
            "1        Love No\n",
            "4        Love No\n",
            "5        Love No\n",
            "11       Love No\n",
            "          ...   \n",
            "9989     Love No\n",
            "9990     Love No\n",
            "9992     Love No\n",
            "9995     Love No\n",
            "9997     Love No\n",
            "Name: Love, Length: 3978, dtype: object\n"
          ]
        }
      ]
    },
    {
      "cell_type": "markdown",
      "source": [
        "## **ดูว่าคนที่แต่งงานโดยรักกันจริง ๆ มีอัตราการหย่าร้างเท่าไหร่**"
      ],
      "metadata": {
        "id": "5tpDiwJRljlR"
      }
    },
    {
      "cell_type": "code",
      "source": [
        "filtered_df = df_marriage[df_marriage['Marriage_Type'] == 'Love'].copy()\n",
        "divorce_counts = filtered_df['Divorce_Status'].value_counts()\n",
        "divorce_percent = filtered_df['Divorce_Status'].value_counts(normalize=True) * 100\n",
        "summary = pd.DataFrame({\n",
        "    'Count': divorce_counts,\n",
        "    'Percentage (%)': divorce_percent.round(2)\n",
        "})\n",
        "\n",
        "print(summary)\n"
      ],
      "metadata": {
        "colab": {
          "base_uri": "https://localhost:8080/"
        },
        "id": "IxiA8PtSwLqL",
        "outputId": "2e194b4e-75f7-4738-8bc2-1107411cd02b"
      },
      "execution_count": 56,
      "outputs": [
        {
          "output_type": "stream",
          "name": "stdout",
          "text": [
            "                Count  Percentage (%)\n",
            "Divorce_Status                       \n",
            "No               3576           89.89\n",
            "Yes               402           10.11\n"
          ]
        }
      ]
    },
    {
      "cell_type": "markdown",
      "source": [
        "## **จากข้อมูลข้างต้นจะเห็นว่า แม้ว่าจะรักกันจริง ก็มีอัตราการหย่าเหมือนกัน เราเลยจะมาดูว่า การแต่งงานของทั้งสองฝ่าย ทางครอบครัวเขาเห็นด้วยหรือไม่**"
      ],
      "metadata": {
        "id": "vLHnpLSFl79j"
      }
    },
    {
      "cell_type": "code",
      "source": [
        "filtered_df = df_marriage[(df_marriage['Marriage_Type'] == 'Love') & (df_marriage['Divorce_Status'] == 'Yes')].copy()\n",
        "parental_approval_counts = filtered_df['Parental_Approval'].value_counts()\n",
        "print(parental_approval_counts)\n"
      ],
      "metadata": {
        "colab": {
          "base_uri": "https://localhost:8080/"
        },
        "id": "iXzXrkZLkfau",
        "outputId": "6647cb4a-3373-4e4e-9482-256d04ed302f"
      },
      "execution_count": 57,
      "outputs": [
        {
          "output_type": "stream",
          "name": "stdout",
          "text": [
            "Parental_Approval\n",
            "Yes        295\n",
            "Partial     68\n",
            "No          39\n",
            "Name: count, dtype: int64\n"
          ]
        }
      ]
    },
    {
      "cell_type": "markdown",
      "source": [
        "## **ดูว่าคนที่แต่งงานโดยการคลุมถุงชนมีอัตราการหย่าร้างเท่าไหร่**"
      ],
      "metadata": {
        "id": "4zcJaXP4uXPd"
      }
    },
    {
      "cell_type": "code",
      "source": [
        "filtered_df = df_marriage[df_marriage['Marriage_Type'] == 'Arranged'].copy()\n",
        "divorce_counts = filtered_df['Divorce_Status'].value_counts()\n",
        "divorce_percent = filtered_df['Divorce_Status'].value_counts(normalize=True) * 100\n",
        "summary = pd.DataFrame({\n",
        "    'Count': divorce_counts,\n",
        "    'Percentage (%)': divorce_percent.round(2)\n",
        "})\n",
        "\n",
        "print(summary)\n"
      ],
      "metadata": {
        "colab": {
          "base_uri": "https://localhost:8080/"
        },
        "id": "HGv--9o_qxEl",
        "outputId": "00760574-2fcd-4a83-825c-dd48856ab435"
      },
      "execution_count": 58,
      "outputs": [
        {
          "output_type": "stream",
          "name": "stdout",
          "text": [
            "                Count  Percentage (%)\n",
            "Divorce_Status                       \n",
            "No               5423           90.05\n",
            "Yes               599            9.95\n"
          ]
        }
      ]
    },
    {
      "cell_type": "markdown",
      "source": [
        "## **การแลกสินสอด**"
      ],
      "metadata": {
        "id": "0jW5-tKDd-0N"
      }
    },
    {
      "cell_type": "code",
      "source": [
        "counts = df_marriage['Dowry_Exchanged'].value_counts()\n",
        "print(counts)"
      ],
      "metadata": {
        "colab": {
          "base_uri": "https://localhost:8080/"
        },
        "id": "vxjtJ2dwcb6K",
        "outputId": "f0ed1c6c-8372-4b0f-d6ab-4878508db723"
      },
      "execution_count": 59,
      "outputs": [
        {
          "output_type": "stream",
          "name": "stdout",
          "text": [
            "Dowry_Exchanged\n",
            "No               6002\n",
            "Yes              2996\n",
            "Not Disclosed    1002\n",
            "Name: count, dtype: int64\n"
          ]
        }
      ]
    },
    {
      "cell_type": "code",
      "source": [],
      "metadata": {
        "id": "4RFxd3mqiF8s"
      },
      "execution_count": 59,
      "outputs": []
    }
  ]
}